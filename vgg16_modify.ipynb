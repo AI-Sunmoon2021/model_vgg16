{
  "nbformat": 4,
  "nbformat_minor": 0,
  "metadata": {
    "colab": {
      "name": "vgg16_modify.ipynb",
      "provenance": [],
      "collapsed_sections": [],
      "mount_file_id": "1PBOsLSUthhh2HFKkzDSxiREM1c5jEsYG",
      "authorship_tag": "ABX9TyPaLEiXhdWITnq8hKMgdJRv",
      "include_colab_link": true
    },
    "kernelspec": {
      "display_name": "Python 3",
      "name": "python3"
    },
    "language_info": {
      "name": "python"
    }
  },
  "cells": [
    {
      "cell_type": "markdown",
      "metadata": {
        "id": "view-in-github",
        "colab_type": "text"
      },
      "source": [
        "<a href=\"https://colab.research.google.com/github/AI-Sunmoon2021/model_vgg16/blob/main/vgg16_modify.ipynb\" target=\"_parent\"><img src=\"https://colab.research.google.com/assets/colab-badge.svg\" alt=\"Open In Colab\"/></a>"
      ]
    },
    {
      "cell_type": "code",
      "metadata": {
        "id": "UnTD-ti1xJFW"
      },
      "source": [
        "import os\n",
        "import cv2\n",
        "import numpy as np\n",
        "import matplotlib.pyplot as plt\n",
        "from keras.utils.np_utils import to_categorical\n",
        "from keras.layers import Dense, Dropout, Flatten, Input\n",
        "from keras.applications.vgg16 import VGG16\n",
        "from keras.models import Model, Sequential\n",
        "from tensorflow import keras\n",
        "from tensorflow.keras import optimizers\n",
        "from os import listdir"
      ],
      "execution_count": null,
      "outputs": []
    },
    {
      "cell_type": "code",
      "metadata": {
        "colab": {
          "base_uri": "https://localhost:8080/"
        },
        "id": "tNpvXgkIxgRk",
        "outputId": "1912cd67-63bb-4a5c-bf19-858bce1f8737"
      },
      "source": [
        "#이미지 사이즈의 정의\n",
        "image_size = 50\n",
        "\n",
        "#listdir('./xx/')파일 안에 있는 이미지를 넣는다.\n",
        "path_bh = [filename for filename in listdir('/content/drive/MyDrive/train/rare/') if not filename.startswith('.')]\n",
        "path_bu = [filename for filename in listdir('/content/drive/MyDrive/train/welldone/') if not filename.startswith('.')]\n",
        "\n",
        "\n",
        "#각 파일을 순서대로 호출한다. (파일에 있는 개수만큼 반복한다.)\n",
        "# OpenCV로 화상 사이즈를 리사이즈 하여 통일한다.\n",
        "#img_에 리사이즈 한 것을 더한다.\n",
        "\n",
        "img_bh = []\n",
        "img_bu = []\n",
        "\n",
        "for i in range(len(path_bh)):\n",
        "   img = cv2.imread('/content/drive/MyDrive/train/rare/'+ path_bh[i])\n",
        "   img = cv2.resize(img,(image_size,image_size))\n",
        "   img_bh.append(img)\n",
        "\n",
        "for i in range(len(path_bu)):\n",
        "   img = cv2.imread('/content/drive/MyDrive/train/welldone/'+ path_bu[i])\n",
        "   img = cv2.resize(img,(image_size,image_size))\n",
        "   img_bu.append(img)\n",
        "\n",
        "X = np.array(img_bh + img_bu) #행렬을 잇다.\n",
        "y = np.array([0]*len(img_bh) + [1]*len(img_bu)) #０、１、２하고 종류별로 번호를 매긴다.\n",
        "rand_index = np.random.permutation(np.arange(len(X))) #np.arange(x)의 배열을 랜덤으로 정렬하여 rand_index 에 넣는다.\n",
        "X = X[rand_index] #X를 rand_index 순으로 정렬한다\n",
        "y = y[rand_index] #y를 rand_index순으로 정렬한다\n",
        "\n",
        "\n",
        "#데이터를 분할한다.\n",
        "# X_train = X[:int(len(X)*0.8)].astype(np.float32) # 트레이닝 데이터 80% 미만\n",
        "# y_train = y[:int(len(y)*0.8)].astype(np.float32)\n",
        "X_train = X[:int(len(X)*0.8)]## 트레이닝 데이터 80% 미만\n",
        "y_train = y[:int(len(y)*0.8)]\n",
        "X_test = X[int(len(X)*0.8):] #트레이닝 데이터 이외\n",
        "y_test = y[int(len(y)*0.8):]\n",
        "\n",
        "#각 속성을 보여준다.\n",
        "print(X_train.shape)\n",
        "print(y_train.shape)\n",
        "print(X_test.shape)\n",
        "print(y_test.shape)\n",
        "\n",
        "y_train = to_categorical(y_train) #One-Hot벡터를 생성한다.\n",
        "y_test = to_categorical(y_test) #One-Hot벡터를 생성한다."
      ],
      "execution_count": null,
      "outputs": [
        {
          "output_type": "stream",
          "name": "stdout",
          "text": [
            "(1318, 50, 50, 3)\n",
            "(1318,)\n",
            "(330, 50, 50, 3)\n",
            "(330,)\n"
          ]
        }
      ]
    },
    {
      "cell_type": "code",
      "metadata": {
        "id": "0-LniC29CJjs"
      },
      "source": [
        "# 전이학습(VGG16모델)을 활용한다.ImageNet 로 사전 학습한 중량감을 읽어 들인다.\n",
        "input_tensor = Input(shape=(image_size, image_size, 3)) \n",
        "vgg16 = VGG16(include_top=False, weights='imagenet', input_tensor=input_tensor)\n",
        "\n",
        "# 특징 추출 부분 이후에 새롭게 다른 층을 추가하기 위해, 미리 VGG와는 다른 모델(여기서는 top_model)을 정의한다.\n",
        "top_model = Sequential()\n",
        "top_model.add(Flatten(input_shape=vgg16.output_shape[1:])) #VGG를 결합한다.\n",
        "\n",
        "top_model.add(Dense(256, activation=\"sigmoid\"))#1번째 전체결합층의 출력유닛수는 256, 활성화함수는 shigmoid.\n",
        "top_model.add(Dropout(0.5))                     #과학습을 막는다.\n",
        "top_model.add(Dense(64, activation='sigmoid'))\n",
        "top_model.add(Dropout(0.5))\n",
        "top_model.add(Dense(32, activation='sigmoid'))\n",
        "top_model.add(Dropout(0.5))\n",
        "top_model.add(Dense(2, activation='softmax')) #소프트맥스 함수를 이용해 3차원으로 출력한다.Dense를 3로 하면 3차원이 된다."
      ],
      "execution_count": null,
      "outputs": []
    },
    {
      "cell_type": "code",
      "metadata": {
        "colab": {
          "base_uri": "https://localhost:8080/"
        },
        "id": "qsh_B7K4CQBj",
        "outputId": "48caa666-09dc-4865-bade-0177ef143094"
      },
      "source": [
        "model = Model(inputs=vgg16.input, outputs=top_model(vgg16.output))\n",
        "\n",
        "for layer in model.layers[:15]:\n",
        "   layer.trainable = False\n",
        "  \n",
        "model.compile(loss='categorical_crossentropy', #다클래스 분류의 손실 함수를 정의한다.\n",
        "             optimizer=optimizers.SGD(lr=1e-4, momentum=0.9), #최적화 함수를 정의한다.\n",
        "             metrics=['accuracy'])#평가함수를 정의한다.\n",
        "\n",
        "#X_train, y_train 을 이용해 학습을 실시한다.테스트 데이터는 X_test, y_test.\n",
        "# history = model.fit(X_train, y_train, batch_size=32, epochs=75, verbose=1, validation_data=(X_test, y_test))\n",
        "history = model.fit(X_train, y_train, batch_size=15, epochs=25, verbose=1, validation_data=(X_test, y_test))\n",
        "# 정밀도 평가한다.\n",
        "score = model.evaluate(X_test, y_test, batch_size=15, verbose=0)\n",
        "print('validation loss:{0[0]}\\nvalidation accuracy:{0[1]}'.format(score))"
      ],
      "execution_count": 13,
      "outputs": [
        {
          "output_type": "stream",
          "name": "stderr",
          "text": [
            "/usr/local/lib/python3.7/dist-packages/keras/optimizer_v2/optimizer_v2.py:356: UserWarning: The `lr` argument is deprecated, use `learning_rate` instead.\n",
            "  \"The `lr` argument is deprecated, use `learning_rate` instead.\")\n"
          ]
        },
        {
          "output_type": "stream",
          "name": "stdout",
          "text": [
            "Epoch 1/25\n",
            "88/88 [==============================] - 54s 603ms/step - loss: 0.6963 - accuracy: 0.5797 - val_loss: 0.5977 - val_accuracy: 0.6333\n",
            "Epoch 2/25\n",
            "88/88 [==============================] - 53s 602ms/step - loss: 0.6884 - accuracy: 0.5766 - val_loss: 0.5903 - val_accuracy: 0.6818\n",
            "Epoch 3/25\n",
            "88/88 [==============================] - 53s 602ms/step - loss: 0.6894 - accuracy: 0.5797 - val_loss: 0.5843 - val_accuracy: 0.7364\n",
            "Epoch 4/25\n",
            "88/88 [==============================] - 53s 602ms/step - loss: 0.6800 - accuracy: 0.5895 - val_loss: 0.5762 - val_accuracy: 0.7758\n",
            "Epoch 5/25\n",
            "88/88 [==============================] - 53s 603ms/step - loss: 0.6851 - accuracy: 0.5850 - val_loss: 0.5681 - val_accuracy: 0.8061\n",
            "Epoch 6/25\n",
            "88/88 [==============================] - 53s 602ms/step - loss: 0.6444 - accuracy: 0.6237 - val_loss: 0.5607 - val_accuracy: 0.8455\n",
            "Epoch 7/25\n",
            "88/88 [==============================] - 53s 603ms/step - loss: 0.6434 - accuracy: 0.6305 - val_loss: 0.5525 - val_accuracy: 0.8455\n",
            "Epoch 8/25\n",
            "88/88 [==============================] - 53s 600ms/step - loss: 0.6405 - accuracy: 0.6282 - val_loss: 0.5425 - val_accuracy: 0.8515\n",
            "Epoch 9/25\n",
            "88/88 [==============================] - 53s 600ms/step - loss: 0.6404 - accuracy: 0.6282 - val_loss: 0.5348 - val_accuracy: 0.8879\n",
            "Epoch 10/25\n",
            "88/88 [==============================] - 53s 601ms/step - loss: 0.6389 - accuracy: 0.6229 - val_loss: 0.5268 - val_accuracy: 0.9121\n",
            "Epoch 11/25\n",
            "88/88 [==============================] - 53s 603ms/step - loss: 0.6146 - accuracy: 0.6495 - val_loss: 0.5193 - val_accuracy: 0.9182\n",
            "Epoch 12/25\n",
            "88/88 [==============================] - 53s 601ms/step - loss: 0.6094 - accuracy: 0.6510 - val_loss: 0.5121 - val_accuracy: 0.9455\n",
            "Epoch 13/25\n",
            "88/88 [==============================] - 53s 601ms/step - loss: 0.5985 - accuracy: 0.6722 - val_loss: 0.5040 - val_accuracy: 0.9455\n",
            "Epoch 14/25\n",
            "88/88 [==============================] - 53s 602ms/step - loss: 0.6044 - accuracy: 0.6775 - val_loss: 0.4963 - val_accuracy: 0.9485\n",
            "Epoch 15/25\n",
            "88/88 [==============================] - 53s 602ms/step - loss: 0.6017 - accuracy: 0.6783 - val_loss: 0.4885 - val_accuracy: 0.9455\n",
            "Epoch 16/25\n",
            "88/88 [==============================] - 53s 602ms/step - loss: 0.5966 - accuracy: 0.6737 - val_loss: 0.4808 - val_accuracy: 0.9485\n",
            "Epoch 17/25\n",
            "88/88 [==============================] - 53s 603ms/step - loss: 0.5804 - accuracy: 0.6866 - val_loss: 0.4736 - val_accuracy: 0.9485\n",
            "Epoch 18/25\n",
            "88/88 [==============================] - 53s 603ms/step - loss: 0.5752 - accuracy: 0.7011 - val_loss: 0.4665 - val_accuracy: 0.9515\n",
            "Epoch 19/25\n",
            "88/88 [==============================] - 53s 603ms/step - loss: 0.5617 - accuracy: 0.7170 - val_loss: 0.4593 - val_accuracy: 0.9515\n",
            "Epoch 20/25\n",
            "88/88 [==============================] - 53s 604ms/step - loss: 0.5810 - accuracy: 0.6920 - val_loss: 0.4526 - val_accuracy: 0.9576\n",
            "Epoch 21/25\n",
            "88/88 [==============================] - 53s 604ms/step - loss: 0.5559 - accuracy: 0.7049 - val_loss: 0.4455 - val_accuracy: 0.9636\n",
            "Epoch 22/25\n",
            "88/88 [==============================] - 53s 604ms/step - loss: 0.5440 - accuracy: 0.7367 - val_loss: 0.4379 - val_accuracy: 0.9606\n",
            "Epoch 23/25\n",
            "88/88 [==============================] - 53s 602ms/step - loss: 0.5545 - accuracy: 0.7117 - val_loss: 0.4308 - val_accuracy: 0.9606\n",
            "Epoch 24/25\n",
            "88/88 [==============================] - 53s 603ms/step - loss: 0.5508 - accuracy: 0.7140 - val_loss: 0.4236 - val_accuracy: 0.9636\n",
            "Epoch 25/25\n",
            "88/88 [==============================] - 53s 604ms/step - loss: 0.5175 - accuracy: 0.7542 - val_loss: 0.4172 - val_accuracy: 0.9636\n",
            "validation loss:0.4172251522541046\n",
            "validation accuracy:0.9636363387107849\n"
          ]
        }
      ]
    },
    {
      "cell_type": "code",
      "metadata": {
        "colab": {
          "base_uri": "https://localhost:8080/"
        },
        "id": "HWbCVSklSfcr",
        "outputId": "1c5a0614-099d-42e7-9f12-aeb8763cf954"
      },
      "source": [
        "from sklearn.metrics import classification_report\n",
        "\n",
        "y_pred = model.predict(X_test) \n",
        "\n",
        "print(classification_report(y_test.argmax(axis=1),y_pred.argmax(axis=1), target_names = ['rare', 'welldone']))"
      ],
      "execution_count": 14,
      "outputs": [
        {
          "output_type": "stream",
          "name": "stdout",
          "text": [
            "              precision    recall  f1-score   support\n",
            "\n",
            "        rare       0.96      0.99      0.97       203\n",
            "    welldone       0.98      0.93      0.95       127\n",
            "\n",
            "    accuracy                           0.96       330\n",
            "   macro avg       0.97      0.96      0.96       330\n",
            "weighted avg       0.96      0.96      0.96       330\n",
            "\n"
          ]
        }
      ]
    },
    {
      "cell_type": "code",
      "metadata": {
        "id": "P5bASGOVz63b"
      },
      "source": [
        ""
      ],
      "execution_count": null,
      "outputs": []
    },
    {
      "cell_type": "code",
      "metadata": {
        "id": "MBKChWWARisf"
      },
      "source": [
        ""
      ],
      "execution_count": null,
      "outputs": []
    }
  ]
}